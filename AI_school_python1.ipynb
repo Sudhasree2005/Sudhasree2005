{
  "nbformat": 4,
  "nbformat_minor": 0,
  "metadata": {
    "colab": {
      "provenance": [],
      "authorship_tag": "ABX9TyPg5MShpkoeH/OBmvWv2RVf",
      "include_colab_link": true
    },
    "kernelspec": {
      "name": "python3",
      "display_name": "Python 3"
    },
    "language_info": {
      "name": "python"
    }
  },
  "cells": [
    {
      "cell_type": "markdown",
      "metadata": {
        "id": "view-in-github",
        "colab_type": "text"
      },
      "source": [
        "<a href=\"https://colab.research.google.com/github/Sudhasree2005/Sudhasree2005/blob/main/AI_school_python1.ipynb\" target=\"_parent\"><img src=\"https://colab.research.google.com/assets/colab-badge.svg\" alt=\"Open In Colab\"/></a>"
      ]
    },
    {
      "cell_type": "code",
      "execution_count": 1,
      "metadata": {
        "colab": {
          "base_uri": "https://localhost:8080/",
          "height": 165
        },
        "id": "ZF7d6BKBvtQj",
        "outputId": "d98829fd-39c0-4b47-a6fd-8e5a33ed6bb0"
      },
      "outputs": [
        {
          "output_type": "error",
          "ename": "NameError",
          "evalue": "ignored",
          "traceback": [
            "\u001b[0;31m---------------------------------------------------------------------------\u001b[0m",
            "\u001b[0;31mNameError\u001b[0m                                 Traceback (most recent call last)",
            "\u001b[0;32m<ipython-input-1-fb066905c7fb>\u001b[0m in \u001b[0;36m<cell line: 1>\u001b[0;34m()\u001b[0m\n\u001b[0;32m----> 1\u001b[0;31m \u001b[0mPrint\u001b[0m\u001b[0;34m(\u001b[0m\u001b[0;34m\"hello\"\u001b[0m\u001b[0;34m)\u001b[0m\u001b[0;34m\u001b[0m\u001b[0;34m\u001b[0m\u001b[0m\n\u001b[0m",
            "\u001b[0;31mNameError\u001b[0m: name 'Print' is not defined"
          ]
        }
      ],
      "source": [
        "Print(\"hello\")"
      ]
    },
    {
      "cell_type": "code",
      "source": [
        "print(\"hello\")"
      ],
      "metadata": {
        "colab": {
          "base_uri": "https://localhost:8080/"
        },
        "id": "hFB417xmwPjv",
        "outputId": "7c1aff15-a4d8-43a5-b3ff-0347525e89c4"
      },
      "execution_count": 2,
      "outputs": [
        {
          "output_type": "stream",
          "name": "stdout",
          "text": [
            "hello\n"
          ]
        }
      ]
    },
    {
      "cell_type": "code",
      "source": [
        "a=3\n",
        "b=9\n",
        "print(\"square of\", a, \"is\",b)\n",
        "print(\"square of {a} is {b}\")"
      ],
      "metadata": {
        "colab": {
          "base_uri": "https://localhost:8080/"
        },
        "id": "fk5ptlp0wY4U",
        "outputId": "6585ff31-f48a-4b80-96f2-113600843d3d"
      },
      "execution_count": 3,
      "outputs": [
        {
          "output_type": "stream",
          "name": "stdout",
          "text": [
            "square of 3 is 9\n",
            "square of {a} is {b}\n"
          ]
        }
      ]
    },
    {
      "cell_type": "code",
      "source": [
        "a=3\n",
        "b=9\n",
        "print(\"square of\", a, \"is\",b)\n",
        "print(\"square of {a} is {b}\") #these are called fstrings"
      ],
      "metadata": {
        "colab": {
          "base_uri": "https://localhost:8080/"
        },
        "id": "6YMF4X4fw1vy",
        "outputId": "2aaecc22-9aec-4ca4-a457-350e330cb25f"
      },
      "execution_count": 4,
      "outputs": [
        {
          "output_type": "stream",
          "name": "stdout",
          "text": [
            "square of 3 is 9\n",
            "square of {a} is {b}\n"
          ]
        }
      ]
    },
    {
      "cell_type": "code",
      "source": [
        "a=3\n",
        "b=9\n",
        "print(\"square of\", a, \"is\",b)\n",
        "print(f\"square of {a} is {b}\") #These are called fsrings - Comment Line"
      ],
      "metadata": {
        "colab": {
          "base_uri": "https://localhost:8080/"
        },
        "id": "RzQAfRDwxJaN",
        "outputId": "fa53f7fc-7aff-429e-e159-f308e33c7e81"
      },
      "execution_count": 5,
      "outputs": [
        {
          "output_type": "stream",
          "name": "stdout",
          "text": [
            "square of 3 is 9\n",
            "square of 3 is 9\n"
          ]
        }
      ]
    },
    {
      "cell_type": "code",
      "source": [
        "x=10\n",
        "name=\"sudha\"\n",
        "is_it_raining= True\n",
        "decimal = 1.82\n",
        "print(x)\n",
        "print(name)\n",
        "print(is_it_raining)\n",
        "print(decimal)\n",
        "print(type(x))\n",
        "print(type(name))\n",
        "print(type(is_it_raining))\n",
        "print(type(decimal))\n"
      ],
      "metadata": {
        "colab": {
          "base_uri": "https://localhost:8080/"
        },
        "id": "9WD5xWF2xXtp",
        "outputId": "2663d08a-013d-4642-de4a-c06ff3d65b56"
      },
      "execution_count": 6,
      "outputs": [
        {
          "output_type": "stream",
          "name": "stdout",
          "text": [
            "10\n",
            "sudha\n",
            "True\n",
            "1.82\n",
            "<class 'int'>\n",
            "<class 'str'>\n",
            "<class 'bool'>\n",
            "<class 'float'>\n"
          ]
        }
      ]
    },
    {
      "cell_type": "code",
      "source": [
        "#type casting\n",
        "y=int(5.6)\n",
        "z=int(\"2300\")#converting string to integer\n",
        "#q=int(\"Hello\")#error will occur"
      ],
      "metadata": {
        "id": "E4zig5wXyH8Z"
      },
      "execution_count": 8,
      "outputs": []
    },
    {
      "cell_type": "code",
      "source": [
        "print(y,z)\n"
      ],
      "metadata": {
        "colab": {
          "base_uri": "https://localhost:8080/"
        },
        "id": "pa_CuPOByxMw",
        "outputId": "a572667f-05ca-4835-d66e-a98738608f9a"
      },
      "execution_count": 9,
      "outputs": [
        {
          "output_type": "stream",
          "name": "stdout",
          "text": [
            "5 2300\n"
          ]
        }
      ]
    },
    {
      "cell_type": "code",
      "source": [
        "print(\"y+z\", y+z)"
      ],
      "metadata": {
        "colab": {
          "base_uri": "https://localhost:8080/"
        },
        "id": "eiPlM8xsy1xJ",
        "outputId": "32190860-e2ec-4198-ab6f-b5eec46ccf49"
      },
      "execution_count": 10,
      "outputs": [
        {
          "output_type": "stream",
          "name": "stdout",
          "text": [
            "y+z 2305\n"
          ]
        }
      ]
    },
    {
      "cell_type": "code",
      "source": [
        "#arithmetic\n",
        "print(\"y-z\", y-z)\n",
        "print(\"y/z\", y/z)\n",
        "print(\"z mod y\", z%y)\n",
        "print(\"Exponent a power 2\", a**2)\n"
      ],
      "metadata": {
        "colab": {
          "base_uri": "https://localhost:8080/"
        },
        "id": "3S0Ooe5dzGrR",
        "outputId": "3122acef-b43e-4185-899f-ce3acf4758a0"
      },
      "execution_count": 11,
      "outputs": [
        {
          "output_type": "stream",
          "name": "stdout",
          "text": [
            "y-z -2295\n",
            "y/z 0.002173913043478261\n",
            "z mod y 0\n",
            "Exponent a power 2 9\n"
          ]
        }
      ]
    },
    {
      "cell_type": "code",
      "source": [
        "a=5\n",
        "b=6\n",
        "print(a==b)\n",
        "print(a!=b)\n",
        "print(a>4)\n",
        "print(b<3)\n",
        "print(b>a)\n",
        "print(type(a==b))"
      ],
      "metadata": {
        "colab": {
          "base_uri": "https://localhost:8080/"
        },
        "id": "_0qsUjj3zhgi",
        "outputId": "f4f030ef-94d6-47d4-ca36-718496e388eb"
      },
      "execution_count": 12,
      "outputs": [
        {
          "output_type": "stream",
          "name": "stdout",
          "text": [
            "False\n",
            "True\n",
            "True\n",
            "False\n",
            "True\n",
            "<class 'bool'>\n"
          ]
        }
      ]
    },
    {
      "cell_type": "code",
      "source": [
        "#logical operator\n",
        "print(a<b or a==b)\n",
        "print(a<b and (a+b)==11)\n",
        "print(not(a<b))"
      ],
      "metadata": {
        "colab": {
          "base_uri": "https://localhost:8080/"
        },
        "id": "gK4a2nN1z6RW",
        "outputId": "45baaf87-8d1b-4728-e9e5-a76f18584bb4"
      },
      "execution_count": 13,
      "outputs": [
        {
          "output_type": "stream",
          "name": "stdout",
          "text": [
            "True\n",
            "True\n",
            "False\n"
          ]
        }
      ]
    },
    {
      "cell_type": "code",
      "source": [
        "a=None #value of a is null\n",
        "b=a or 4\n",
        "print(b)"
      ],
      "metadata": {
        "colab": {
          "base_uri": "https://localhost:8080/"
        },
        "id": "zEVJqWPf0VDL",
        "outputId": "f8552523-2583-4856-d954-ca2118201f29"
      },
      "execution_count": 14,
      "outputs": [
        {
          "output_type": "stream",
          "name": "stdout",
          "text": [
            "4\n"
          ]
        }
      ]
    },
    {
      "cell_type": "code",
      "source": [
        "#conditional operator\n",
        "is_it_raining= True\n",
        "if(is_it_raining):\n",
        "  print(\"I can't play football\")\n",
        "else:\n",
        "  print(\"Lets play football\")"
      ],
      "metadata": {
        "colab": {
          "base_uri": "https://localhost:8080/"
        },
        "id": "FgEOEzhS0hhV",
        "outputId": "04544b41-2cdf-4cdb-8382-accaf40de8ab"
      },
      "execution_count": 16,
      "outputs": [
        {
          "output_type": "stream",
          "name": "stdout",
          "text": [
            "I can't play football\n"
          ]
        }
      ]
    },
    {
      "cell_type": "code",
      "source": [
        "summer = True\n",
        "winter = True\n",
        "rainy = False\n",
        "if (summer):\n",
        "  print(\"let eat Icecream\")\n",
        "elif(winter):\n",
        "  print(\"lets drink chai\")\n",
        "else:\n",
        "  print(\"Lets go and study\")\n",
        "\n",
        "\n"
      ],
      "metadata": {
        "colab": {
          "base_uri": "https://localhost:8080/"
        },
        "id": "pKZBcBqV2mlY",
        "outputId": "64adf9e5-c0f1-4d07-a2b1-51e6a8c21c81"
      },
      "execution_count": 17,
      "outputs": [
        {
          "output_type": "stream",
          "name": "stdout",
          "text": [
            "let eat Icecream\n"
          ]
        }
      ]
    },
    {
      "cell_type": "code",
      "source": [
        "summer = False\n",
        "winter = True\n",
        "rainy = False\n",
        "if (summer):\n",
        "  print(\"let eat Icecream\")\n",
        "elif(winter):\n",
        "  print(\"lets drink chai\")\n",
        "else:\n",
        "  print(\"Lets go and study\")\n",
        "\n",
        "\n"
      ],
      "metadata": {
        "colab": {
          "base_uri": "https://localhost:8080/"
        },
        "id": "umR4YfpW3SVq",
        "outputId": "83bedbf8-7e32-426e-c08a-21157df7f57c"
      },
      "execution_count": 18,
      "outputs": [
        {
          "output_type": "stream",
          "name": "stdout",
          "text": [
            "lets drink chai\n"
          ]
        }
      ]
    },
    {
      "cell_type": "code",
      "source": [
        "t=0\n",
        "while(t<10):\n",
        "  print(\"welcome to AI Summer School\")\n",
        "  t=t+1\n",
        ""
      ],
      "metadata": {
        "colab": {
          "base_uri": "https://localhost:8080/"
        },
        "id": "MSpXsrhK3bEU",
        "outputId": "996f654f-a557-4818-bc56-0f31f31aec08"
      },
      "execution_count": 19,
      "outputs": [
        {
          "output_type": "stream",
          "name": "stdout",
          "text": [
            "welcome to AI Summer School\n",
            "welcome to AI Summer School\n",
            "welcome to AI Summer School\n",
            "welcome to AI Summer School\n",
            "welcome to AI Summer School\n",
            "welcome to AI Summer School\n",
            "welcome to AI Summer School\n",
            "welcome to AI Summer School\n",
            "welcome to AI Summer School\n",
            "welcome to AI Summer School\n"
          ]
        }
      ]
    },
    {
      "cell_type": "code",
      "source": [
        "t=0\n",
        "while(t<10):\n",
        "  print(\"welcome to AI Summer School\", end=\"$\")\n",
        "  t=t+1"
      ],
      "metadata": {
        "colab": {
          "base_uri": "https://localhost:8080/"
        },
        "id": "z7l66L1i3qy7",
        "outputId": "280b620c-6bc1-476f-b221-a69301619ce1"
      },
      "execution_count": 20,
      "outputs": [
        {
          "output_type": "stream",
          "name": "stdout",
          "text": [
            "welcome to AI Summer School$welcome to AI Summer School$welcome to AI Summer School$welcome to AI Summer School$welcome to AI Summer School$welcome to AI Summer School$welcome to AI Summer School$welcome to AI Summer School$welcome to AI Summer School$welcome to AI Summer School$"
          ]
        }
      ]
    },
    {
      "cell_type": "code",
      "source": [
        "for i in range(5,0,-1): #initial vlue, final value , increment\n",
        "  print(i)\n",
        "\n"
      ],
      "metadata": {
        "colab": {
          "base_uri": "https://localhost:8080/"
        },
        "id": "eV1I-I624IZL",
        "outputId": "6c730898-a9fe-435d-9e91-1ff13984f70a"
      },
      "execution_count": 21,
      "outputs": [
        {
          "output_type": "stream",
          "name": "stdout",
          "text": [
            "5\n",
            "4\n",
            "3\n",
            "2\n",
            "1\n"
          ]
        }
      ]
    },
    {
      "cell_type": "code",
      "source": [
        "for i in ['T','P']:\n",
        "  print(i)\n",
        "  break"
      ],
      "metadata": {
        "colab": {
          "base_uri": "https://localhost:8080/"
        },
        "id": "6WJQQ51q4lAb",
        "outputId": "19ea9505-15d1-4c3b-c2a7-253d0da3a824"
      },
      "execution_count": 22,
      "outputs": [
        {
          "output_type": "stream",
          "name": "stdout",
          "text": [
            "T\n"
          ]
        }
      ]
    },
    {
      "cell_type": "code",
      "source": [
        "for i in ['T','P']:\n",
        "  print(i)\n",
        "else:\n",
        "  print(\"for loop else statement successfully executed\")"
      ],
      "metadata": {
        "colab": {
          "base_uri": "https://localhost:8080/"
        },
        "id": "XW6wyz6841B6",
        "outputId": "f8490dcb-7ed0-4dc5-c76a-94cc3a53c52a"
      },
      "execution_count": 23,
      "outputs": [
        {
          "output_type": "stream",
          "name": "stdout",
          "text": [
            "T\n",
            "P\n",
            "for loop else statement successfully executed\n"
          ]
        }
      ]
    },
    {
      "cell_type": "code",
      "source": [
        "for i in ['T','P']:\n",
        "  print(i)\n",
        "  break\n",
        "else:\n",
        "  print(\"for loop else statement successfully executed\")"
      ],
      "metadata": {
        "colab": {
          "base_uri": "https://localhost:8080/"
        },
        "id": "sC974GaQ5ID8",
        "outputId": "2122b99f-9f95-418a-f0e5-e981bfafd4fe"
      },
      "execution_count": 24,
      "outputs": [
        {
          "output_type": "stream",
          "name": "stdout",
          "text": [
            "T\n"
          ]
        }
      ]
    },
    {
      "cell_type": "code",
      "source": [
        "x=4\n",
        "for i in range(1,x+1):\n",
        "  for j in range(1,i+1):\n",
        "    print(j,end='')\n",
        "  print('')\n"
      ],
      "metadata": {
        "colab": {
          "base_uri": "https://localhost:8080/"
        },
        "id": "P854MaDN5QM1",
        "outputId": "0b5952b7-ffe7-4a90-db60-78a03db38f4e"
      },
      "execution_count": 25,
      "outputs": [
        {
          "output_type": "stream",
          "name": "stdout",
          "text": [
            "1\n",
            "12\n",
            "123\n",
            "1234\n"
          ]
        }
      ]
    },
    {
      "cell_type": "code",
      "source": [
        "#functions\n",
        "def add_nums(a,b):\n",
        "  return a+b\n",
        "add_nums(2,3)\n",
        "print(add_nums(2,3))\n"
      ],
      "metadata": {
        "colab": {
          "base_uri": "https://localhost:8080/"
        },
        "id": "I33H7tqc5rOZ",
        "outputId": "ac61e61c-2656-46d4-cdd1-0c97dac54a95"
      },
      "execution_count": 26,
      "outputs": [
        {
          "output_type": "stream",
          "name": "stdout",
          "text": [
            "5\n"
          ]
        }
      ]
    },
    {
      "cell_type": "code",
      "source": [
        "def odd_even(num):\n",
        "  if num%2 == 0:\n",
        "    return \"Even\"\n",
        "  else:\n",
        "    return \"Odd\"\n",
        "\n",
        "\n"
      ],
      "metadata": {
        "colab": {
          "base_uri": "https://localhost:8080/",
          "height": 130
        },
        "id": "eIC3m2JE6JZH",
        "outputId": "ffeb340a-5118-4c88-d0f9-bc53ff655c2a"
      },
      "execution_count": 27,
      "outputs": [
        {
          "output_type": "error",
          "ename": "SyntaxError",
          "evalue": "ignored",
          "traceback": [
            "\u001b[0;36m  File \u001b[0;32m\"<ipython-input-27-eaac2e17cda9>\"\u001b[0;36m, line \u001b[0;32m8\u001b[0m\n\u001b[0;31m    \"\u001b[0m\n\u001b[0m    ^\u001b[0m\n\u001b[0;31mSyntaxError\u001b[0m\u001b[0;31m:\u001b[0m unterminated string literal (detected at line 8)\n"
          ]
        }
      ]
    },
    {
      "cell_type": "code",
      "source": [
        "def odd_even(num):\n",
        "  if num%2 == 0:\n",
        "    return \"Even\"\n",
        "  else:\n",
        "    return \"Odd\"\n",
        "print(odd_even(5))\n",
        "print(odd_even(6))\n"
      ],
      "metadata": {
        "colab": {
          "base_uri": "https://localhost:8080/"
        },
        "id": "ccmfomWN6eIy",
        "outputId": "1505e6ec-b629-4978-9a01-8c7241cfec8f"
      },
      "execution_count": 28,
      "outputs": [
        {
          "output_type": "stream",
          "name": "stdout",
          "text": [
            "Odd\n",
            "Even\n"
          ]
        }
      ]
    },
    {
      "cell_type": "code",
      "source": [
        "for i in range(5):\n",
        "  print(i,end='#')\n",
        ""
      ],
      "metadata": {
        "colab": {
          "base_uri": "https://localhost:8080/"
        },
        "id": "6zClnQ5Y6rJq",
        "outputId": "e27afda0-6aaa-4753-bdab-1b4086f45625"
      },
      "execution_count": 29,
      "outputs": [
        {
          "output_type": "stream",
          "name": "stdout",
          "text": [
            "0#1#2#3#4#"
          ]
        }
      ]
    },
    {
      "cell_type": "code",
      "source": [
        "#oop\n",
        "class pen:\n",
        "  #classvar\n",
        "  type = \"ball point\"\n",
        "  color=\"blue\"\n",
        "  price=11.00\n",
        "  #memberfunction\n",
        "  def writing(self):\n",
        "    print('write')\n",
        "\n",
        "c=pen()\n",
        "c.writing()\n"
      ],
      "metadata": {
        "colab": {
          "base_uri": "https://localhost:8080/"
        },
        "id": "85SKnHP77NDJ",
        "outputId": "06047921-ff7d-4dee-debc-e4e4689b60c0"
      },
      "execution_count": 30,
      "outputs": [
        {
          "output_type": "stream",
          "name": "stdout",
          "text": [
            "write\n"
          ]
        }
      ]
    },
    {
      "cell_type": "code",
      "source": [
        "#_init()_ - similar to constructors\n",
        "class vehicle:\n",
        "  vechcle_type = 'car'\n",
        "  def _init_(self,company1,color1):\n",
        "    self.company=company1\n",
        "    self.color=color1\n",
        "  def printing(self):\n",
        "    print(\"vehicle type:\", vehicle_type)\n",
        "    print(\"company:\", self.company)\n",
        "    print(\"color:\", self.color)\n",
        "\n",
        "c1 = vehicle(\"ferari\",\"Red\")\n"
      ],
      "metadata": {
        "colab": {
          "base_uri": "https://localhost:8080/",
          "height": 200
        },
        "id": "RZR6Opox-WNg",
        "outputId": "e00b340d-79d5-4c7f-ae9e-c538b35f3555"
      },
      "execution_count": 31,
      "outputs": [
        {
          "output_type": "error",
          "ename": "TypeError",
          "evalue": "ignored",
          "traceback": [
            "\u001b[0;31m---------------------------------------------------------------------------\u001b[0m",
            "\u001b[0;31mTypeError\u001b[0m                                 Traceback (most recent call last)",
            "\u001b[0;32m<ipython-input-31-0b36aa11a892>\u001b[0m in \u001b[0;36m<cell line: 12>\u001b[0;34m()\u001b[0m\n\u001b[1;32m     10\u001b[0m     \u001b[0mprint\u001b[0m\u001b[0;34m(\u001b[0m\u001b[0;34m\"color:\"\u001b[0m\u001b[0;34m,\u001b[0m \u001b[0mself\u001b[0m\u001b[0;34m.\u001b[0m\u001b[0mcolor\u001b[0m\u001b[0;34m)\u001b[0m\u001b[0;34m\u001b[0m\u001b[0;34m\u001b[0m\u001b[0m\n\u001b[1;32m     11\u001b[0m \u001b[0;34m\u001b[0m\u001b[0m\n\u001b[0;32m---> 12\u001b[0;31m \u001b[0mc1\u001b[0m \u001b[0;34m=\u001b[0m \u001b[0mvehicle\u001b[0m\u001b[0;34m(\u001b[0m\u001b[0;34m\"ferari\"\u001b[0m\u001b[0;34m,\u001b[0m\u001b[0;34m\"Red\"\u001b[0m\u001b[0;34m)\u001b[0m\u001b[0;34m\u001b[0m\u001b[0;34m\u001b[0m\u001b[0m\n\u001b[0m",
            "\u001b[0;31mTypeError\u001b[0m: vehicle() takes no arguments"
          ]
        }
      ]
    },
    {
      "cell_type": "code",
      "source": [
        "#_init()_ - similar to constructors\n",
        "class vehicle:\n",
        "  vechcle_type = 'car'\n",
        "  def _init_(self,company1,color1):\n",
        "    self.company=company1\n",
        "    self.color=color1\n",
        "  def printing(self):\n",
        "    print(\"vehicle type:\", self.vehicle_type)\n",
        "    print(\"company:\", self.company)\n",
        "    print(\"color:\", self.color)\n",
        "\n",
        "c1 = vehicle(\"ferari\",\"Red\")\n"
      ],
      "metadata": {
        "colab": {
          "base_uri": "https://localhost:8080/",
          "height": 200
        },
        "id": "6Rh-Eat1_cwC",
        "outputId": "0d5f624e-e93d-44f0-f5d3-210ed9df5fe1"
      },
      "execution_count": 32,
      "outputs": [
        {
          "output_type": "error",
          "ename": "TypeError",
          "evalue": "ignored",
          "traceback": [
            "\u001b[0;31m---------------------------------------------------------------------------\u001b[0m",
            "\u001b[0;31mTypeError\u001b[0m                                 Traceback (most recent call last)",
            "\u001b[0;32m<ipython-input-32-5be286d2a58c>\u001b[0m in \u001b[0;36m<cell line: 12>\u001b[0;34m()\u001b[0m\n\u001b[1;32m     10\u001b[0m     \u001b[0mprint\u001b[0m\u001b[0;34m(\u001b[0m\u001b[0;34m\"color:\"\u001b[0m\u001b[0;34m,\u001b[0m \u001b[0mself\u001b[0m\u001b[0;34m.\u001b[0m\u001b[0mcolor\u001b[0m\u001b[0;34m)\u001b[0m\u001b[0;34m\u001b[0m\u001b[0;34m\u001b[0m\u001b[0m\n\u001b[1;32m     11\u001b[0m \u001b[0;34m\u001b[0m\u001b[0m\n\u001b[0;32m---> 12\u001b[0;31m \u001b[0mc1\u001b[0m \u001b[0;34m=\u001b[0m \u001b[0mvehicle\u001b[0m\u001b[0;34m(\u001b[0m\u001b[0;34m\"ferari\"\u001b[0m\u001b[0;34m,\u001b[0m\u001b[0;34m\"Red\"\u001b[0m\u001b[0;34m)\u001b[0m\u001b[0;34m\u001b[0m\u001b[0;34m\u001b[0m\u001b[0m\n\u001b[0m",
            "\u001b[0;31mTypeError\u001b[0m: vehicle() takes no arguments"
          ]
        }
      ]
    },
    {
      "cell_type": "code",
      "source": [
        "#_init()_ - similar to constructors\n",
        "class vehicle:\n",
        "  vechcle_type = 'car'\n",
        "  def _init_(self,company1,color1):\n",
        "    self.company=company1\n",
        "    self.color=color1\n",
        "  def printing(self):\n",
        "    print(\"vehicle type:\", self.vechcle_type)\n",
        "    print(\"company:\", self.company)\n",
        "    print(\"color:\", self.color)\n",
        "\n",
        "c1 = vehicle(\"figo\",\"red\")\n",
        "c1.printing\n",
        "\n"
      ],
      "metadata": {
        "colab": {
          "base_uri": "https://localhost:8080/",
          "height": 235
        },
        "id": "UT1PTVfF_mPk",
        "outputId": "e2cb154f-356d-426f-b2df-17755a65cd5f"
      },
      "execution_count": 40,
      "outputs": [
        {
          "output_type": "error",
          "ename": "TypeError",
          "evalue": "ignored",
          "traceback": [
            "\u001b[0;31m---------------------------------------------------------------------------\u001b[0m",
            "\u001b[0;31mTypeError\u001b[0m                                 Traceback (most recent call last)",
            "\u001b[0;32m<ipython-input-40-3500dc20eecb>\u001b[0m in \u001b[0;36m<cell line: 12>\u001b[0;34m()\u001b[0m\n\u001b[1;32m     10\u001b[0m     \u001b[0mprint\u001b[0m\u001b[0;34m(\u001b[0m\u001b[0;34m\"color:\"\u001b[0m\u001b[0;34m,\u001b[0m \u001b[0mself\u001b[0m\u001b[0;34m.\u001b[0m\u001b[0mcolor\u001b[0m\u001b[0;34m)\u001b[0m\u001b[0;34m\u001b[0m\u001b[0;34m\u001b[0m\u001b[0m\n\u001b[1;32m     11\u001b[0m \u001b[0;34m\u001b[0m\u001b[0m\n\u001b[0;32m---> 12\u001b[0;31m \u001b[0mc1\u001b[0m \u001b[0;34m=\u001b[0m \u001b[0mvehicle\u001b[0m\u001b[0;34m(\u001b[0m\u001b[0;34m\"figo\"\u001b[0m\u001b[0;34m,\u001b[0m\u001b[0;34m\"red\"\u001b[0m\u001b[0;34m)\u001b[0m\u001b[0;34m\u001b[0m\u001b[0;34m\u001b[0m\u001b[0m\n\u001b[0m\u001b[1;32m     13\u001b[0m \u001b[0mc1\u001b[0m\u001b[0;34m.\u001b[0m\u001b[0mprinting\u001b[0m\u001b[0;34m\u001b[0m\u001b[0;34m\u001b[0m\u001b[0m\n\u001b[1;32m     14\u001b[0m \u001b[0;34m\u001b[0m\u001b[0m\n",
            "\u001b[0;31mTypeError\u001b[0m: vehicle() takes no arguments"
          ]
        }
      ]
    },
    {
      "cell_type": "code",
      "source": [
        "class company:\n",
        "    def _init_(self):\n",
        "    self.ceo=\"sudha\"\n",
        "    self.compname=\"Suryaya namaha\"\n",
        "  def show(self):\n",
        "    print(\"CEO name:\",self.ceo)\n",
        "    print(f\"company name: {self.compname}\")\n",
        "class sales:\n",
        "  def _init_(self,name):\n",
        "    company._init_(self)\n",
        "    self.salary=\"20000\"\n",
        "\n",
        "    def printsal(self):\n",
        "      print(f\"Salary: {self.salary}\")\n",
        "\n",
        "class serviceemp:\n",
        "  def _init_(self,name,branch_name):\n",
        "    company._init_(self)\n",
        "    self.branch_name=branch_name\n",
        "  def branch(self):\n",
        "    print(f\"Branch:{self.branch_name}\")\n",
        "\n",
        "#emp1=sales(\"Mr.X\")\n",
        "emp1=company()\n",
        "emp1.show()\n",
        "#emp1.printsal()\n",
        "print(\"\\n\")\n",
        "\n",
        "\n"
      ],
      "metadata": {
        "colab": {
          "base_uri": "https://localhost:8080/",
          "height": 356
        },
        "id": "YCRT1aR7ANU5",
        "outputId": "69211d5b-05be-49af-87e5-ab3261c74f7f"
      },
      "execution_count": 42,
      "outputs": [
        {
          "output_type": "error",
          "ename": "AttributeError",
          "evalue": "ignored",
          "traceback": [
            "\u001b[0;31m---------------------------------------------------------------------------\u001b[0m",
            "\u001b[0;31mAttributeError\u001b[0m                            Traceback (most recent call last)",
            "\u001b[0;32m<ipython-input-42-3af028394a45>\u001b[0m in \u001b[0;36m<cell line: 25>\u001b[0;34m()\u001b[0m\n\u001b[1;32m     23\u001b[0m \u001b[0;31m#emp1=sales(\"Mr.X\")\u001b[0m\u001b[0;34m\u001b[0m\u001b[0;34m\u001b[0m\u001b[0m\n\u001b[1;32m     24\u001b[0m \u001b[0memp1\u001b[0m\u001b[0;34m=\u001b[0m\u001b[0mcompany\u001b[0m\u001b[0;34m(\u001b[0m\u001b[0;34m)\u001b[0m\u001b[0;34m\u001b[0m\u001b[0;34m\u001b[0m\u001b[0m\n\u001b[0;32m---> 25\u001b[0;31m \u001b[0memp1\u001b[0m\u001b[0;34m.\u001b[0m\u001b[0mshow\u001b[0m\u001b[0;34m(\u001b[0m\u001b[0;34m)\u001b[0m\u001b[0;34m\u001b[0m\u001b[0;34m\u001b[0m\u001b[0m\n\u001b[0m\u001b[1;32m     26\u001b[0m \u001b[0;31m#emp1.printsal()\u001b[0m\u001b[0;34m\u001b[0m\u001b[0;34m\u001b[0m\u001b[0m\n\u001b[1;32m     27\u001b[0m \u001b[0mprint\u001b[0m\u001b[0;34m(\u001b[0m\u001b[0;34m\"\\n\"\u001b[0m\u001b[0;34m)\u001b[0m\u001b[0;34m\u001b[0m\u001b[0;34m\u001b[0m\u001b[0m\n",
            "\u001b[0;32m<ipython-input-42-3af028394a45>\u001b[0m in \u001b[0;36mshow\u001b[0;34m(self)\u001b[0m\n\u001b[1;32m      4\u001b[0m     \u001b[0mself\u001b[0m\u001b[0;34m.\u001b[0m\u001b[0mcompname\u001b[0m\u001b[0;34m=\u001b[0m\u001b[0;34m\"Suryaya namaha\"\u001b[0m\u001b[0;34m\u001b[0m\u001b[0;34m\u001b[0m\u001b[0m\n\u001b[1;32m      5\u001b[0m   \u001b[0;32mdef\u001b[0m \u001b[0mshow\u001b[0m\u001b[0;34m(\u001b[0m\u001b[0mself\u001b[0m\u001b[0;34m)\u001b[0m\u001b[0;34m:\u001b[0m\u001b[0;34m\u001b[0m\u001b[0;34m\u001b[0m\u001b[0m\n\u001b[0;32m----> 6\u001b[0;31m     \u001b[0mprint\u001b[0m\u001b[0;34m(\u001b[0m\u001b[0;34m\"CEO name:\"\u001b[0m\u001b[0;34m,\u001b[0m\u001b[0mself\u001b[0m\u001b[0;34m.\u001b[0m\u001b[0mceo\u001b[0m\u001b[0;34m)\u001b[0m\u001b[0;34m\u001b[0m\u001b[0;34m\u001b[0m\u001b[0m\n\u001b[0m\u001b[1;32m      7\u001b[0m     \u001b[0mprint\u001b[0m\u001b[0;34m(\u001b[0m\u001b[0;34mf\"company name: {self.compname}\"\u001b[0m\u001b[0;34m)\u001b[0m\u001b[0;34m\u001b[0m\u001b[0;34m\u001b[0m\u001b[0m\n\u001b[1;32m      8\u001b[0m \u001b[0;32mclass\u001b[0m \u001b[0msales\u001b[0m\u001b[0;34m:\u001b[0m\u001b[0;34m\u001b[0m\u001b[0;34m\u001b[0m\u001b[0m\n",
            "\u001b[0;31mAttributeError\u001b[0m: 'company' object has no attribute 'ceo'"
          ]
        }
      ]
    },
    {
      "cell_type": "code",
      "source": [],
      "metadata": {
        "id": "j4gflECDDn4E"
      },
      "execution_count": null,
      "outputs": []
    }
  ]
}