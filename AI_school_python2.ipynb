{
  "nbformat": 4,
  "nbformat_minor": 0,
  "metadata": {
    "colab": {
      "provenance": [],
      "authorship_tag": "ABX9TyP2Rv29jHCtUhjKMvi8KgmS",
      "include_colab_link": true
    },
    "kernelspec": {
      "name": "python3",
      "display_name": "Python 3"
    },
    "language_info": {
      "name": "python"
    }
  },
  "cells": [
    {
      "cell_type": "markdown",
      "metadata": {
        "id": "view-in-github",
        "colab_type": "text"
      },
      "source": [
        "<a href=\"https://colab.research.google.com/github/Sudhasree2005/Sudhasree2005/blob/main/AI_school_python2.ipynb\" target=\"_parent\"><img src=\"https://colab.research.google.com/assets/colab-badge.svg\" alt=\"Open In Colab\"/></a>"
      ]
    },
    {
      "cell_type": "code",
      "execution_count": 1,
      "metadata": {
        "colab": {
          "base_uri": "https://localhost:8080/"
        },
        "id": "wtnjp1lcEnw4",
        "outputId": "e7481fd4-4480-4eab-8b07-b46bd329a8a6"
      },
      "outputs": [
        {
          "output_type": "execute_result",
          "data": {
            "text/plain": [
              "{'name': 'sudha', 'age': 40}"
            ]
          },
          "metadata": {},
          "execution_count": 1
        }
      ],
      "source": [
        "#Dictonary - the key is immutable(cannot be changed), but the value is mutable\n",
        "my_dict={'name': 'sudha',\n",
        "         'age': 40}\n",
        "my_dict\n"
      ]
    },
    {
      "cell_type": "code",
      "source": [
        "#Lists (of diff data type)\n",
        "a=['sudha',40,'net cleared',True,'Highly Paid']\n",
        "print(a)"
      ],
      "metadata": {
        "colab": {
          "base_uri": "https://localhost:8080/"
        },
        "id": "HXmWoFZmFZrj",
        "outputId": "f543106e-aecc-402c-ccd2-3264587ce0ad"
      },
      "execution_count": 2,
      "outputs": [
        {
          "output_type": "stream",
          "name": "stdout",
          "text": [
            "['sudha', 40, 'net cleared', True, 'Highly Paid']\n"
          ]
        }
      ]
    },
    {
      "cell_type": "code",
      "source": [
        "print(a[0],a[2])"
      ],
      "metadata": {
        "colab": {
          "base_uri": "https://localhost:8080/"
        },
        "id": "veYg1PxiGAR_",
        "outputId": "b02fdc55-9f58-474e-f538-bcb39055279e"
      },
      "execution_count": 3,
      "outputs": [
        {
          "output_type": "stream",
          "name": "stdout",
          "text": [
            "sudha net cleared\n"
          ]
        }
      ]
    },
    {
      "cell_type": "code",
      "source": [
        "print(a[-3])"
      ],
      "metadata": {
        "colab": {
          "base_uri": "https://localhost:8080/"
        },
        "id": "X9Zh3S9LGEbD",
        "outputId": "949d7046-7d7f-43f1-8ba6-772787160e3e"
      },
      "execution_count": 4,
      "outputs": [
        {
          "output_type": "stream",
          "name": "stdout",
          "text": [
            "net cleared\n"
          ]
        }
      ]
    },
    {
      "cell_type": "code",
      "source": [
        "print(a[-2])"
      ],
      "metadata": {
        "colab": {
          "base_uri": "https://localhost:8080/"
        },
        "id": "IqBXXbatGJmT",
        "outputId": "7b7a399b-dbfb-4162-bcee-8d9fd6a7fd9f"
      },
      "execution_count": 5,
      "outputs": [
        {
          "output_type": "stream",
          "name": "stdout",
          "text": [
            "True\n"
          ]
        }
      ]
    },
    {
      "cell_type": "code",
      "source": [
        "print(len(a))"
      ],
      "metadata": {
        "colab": {
          "base_uri": "https://localhost:8080/"
        },
        "id": "NaUKfQYEGOWl",
        "outputId": "0592f648-d4a2-4bb0-b205-f1b771aa50e3"
      },
      "execution_count": 6,
      "outputs": [
        {
          "output_type": "stream",
          "name": "stdout",
          "text": [
            "5\n"
          ]
        }
      ]
    },
    {
      "cell_type": "code",
      "source": [
        "b=[] #create empty list\n",
        "print(b)\n",
        "for num in range(10):\n",
        "  b.append(num)\n",
        "  print(b)"
      ],
      "metadata": {
        "colab": {
          "base_uri": "https://localhost:8080/"
        },
        "id": "v4cwu9uiGRFn",
        "outputId": "191fb21c-f9e7-48a7-d5dc-9b917aae1f5c"
      },
      "execution_count": 7,
      "outputs": [
        {
          "output_type": "stream",
          "name": "stdout",
          "text": [
            "[]\n",
            "[0]\n",
            "[0, 1]\n",
            "[0, 1, 2]\n",
            "[0, 1, 2, 3]\n",
            "[0, 1, 2, 3, 4]\n",
            "[0, 1, 2, 3, 4, 5]\n",
            "[0, 1, 2, 3, 4, 5, 6]\n",
            "[0, 1, 2, 3, 4, 5, 6, 7]\n",
            "[0, 1, 2, 3, 4, 5, 6, 7, 8]\n",
            "[0, 1, 2, 3, 4, 5, 6, 7, 8, 9]\n"
          ]
        }
      ]
    },
    {
      "cell_type": "code",
      "source": [
        "c=[] #create empty list\n",
        "print(c)\n",
        "for num in range(10):\n",
        "  c.append(num)\n",
        "print(c)"
      ],
      "metadata": {
        "colab": {
          "base_uri": "https://localhost:8080/"
        },
        "id": "ov3E1AsfGigW",
        "outputId": "b73b08a6-25fa-44ad-95ff-d2d84bef68e2"
      },
      "execution_count": 9,
      "outputs": [
        {
          "output_type": "stream",
          "name": "stdout",
          "text": [
            "[]\n",
            "[0, 1, 2, 3, 4, 5, 6, 7, 8, 9]\n"
          ]
        }
      ]
    },
    {
      "cell_type": "code",
      "source": [
        "#slicing\n",
        "print(b[1:7])"
      ],
      "metadata": {
        "colab": {
          "base_uri": "https://localhost:8080/"
        },
        "id": "lsE58XewG374",
        "outputId": "a8d9737b-fab4-4a11-f843-f1822ec05d62"
      },
      "execution_count": 10,
      "outputs": [
        {
          "output_type": "stream",
          "name": "stdout",
          "text": [
            "[1, 2, 3, 4, 5, 6]\n"
          ]
        }
      ]
    },
    {
      "cell_type": "code",
      "source": [
        "print(b[4:])"
      ],
      "metadata": {
        "colab": {
          "base_uri": "https://localhost:8080/"
        },
        "id": "smMYVQEyHJ2J",
        "outputId": "291461e4-0be6-4876-9eca-2f002a6cd7fe"
      },
      "execution_count": 11,
      "outputs": [
        {
          "output_type": "stream",
          "name": "stdout",
          "text": [
            "[4, 5, 6, 7, 8, 9, 0, 1, 2, 3, 4, 5, 6, 7, 8, 9]\n"
          ]
        }
      ]
    },
    {
      "cell_type": "code",
      "source": [
        "print(b[-1])"
      ],
      "metadata": {
        "colab": {
          "base_uri": "https://localhost:8080/"
        },
        "id": "kaD-a2I6HOdF",
        "outputId": "daf5c1ea-ffbf-4c59-e6cc-6688f97235b2"
      },
      "execution_count": 12,
      "outputs": [
        {
          "output_type": "stream",
          "name": "stdout",
          "text": [
            "9\n"
          ]
        }
      ]
    },
    {
      "cell_type": "code",
      "source": [
        "print(b[-4:-2])"
      ],
      "metadata": {
        "colab": {
          "base_uri": "https://localhost:8080/"
        },
        "id": "dMqpxDNWHVcV",
        "outputId": "2648bdb3-f9a4-4817-8d51-3a3f288fb1ab"
      },
      "execution_count": 14,
      "outputs": [
        {
          "output_type": "stream",
          "name": "stdout",
          "text": [
            "[6, 7]\n"
          ]
        }
      ]
    },
    {
      "cell_type": "code",
      "source": [
        "print(b[-5:-1])"
      ],
      "metadata": {
        "colab": {
          "base_uri": "https://localhost:8080/"
        },
        "id": "CLZZ3w2fHbwI",
        "outputId": "5ad7ea55-65c4-48d8-a62b-02e793cc74d9"
      },
      "execution_count": 15,
      "outputs": [
        {
          "output_type": "stream",
          "name": "stdout",
          "text": [
            "[5, 6, 7, 8]\n"
          ]
        }
      ]
    },
    {
      "cell_type": "code",
      "source": [
        "print(b[-2:-4])"
      ],
      "metadata": {
        "colab": {
          "base_uri": "https://localhost:8080/"
        },
        "id": "QnXn2n8lHx0c",
        "outputId": "af5cf81e-c037-4b39-9188-9ff211467d3f"
      },
      "execution_count": 16,
      "outputs": [
        {
          "output_type": "stream",
          "name": "stdout",
          "text": [
            "[]\n"
          ]
        }
      ]
    },
    {
      "cell_type": "code",
      "source": [
        "#increment the element by 2 and save it in a new list\n",
        "d=[]\n",
        "for i in range(len(b)):\n",
        "  d.append(2 * b[i])\n",
        "  print(d)"
      ],
      "metadata": {
        "colab": {
          "base_uri": "https://localhost:8080/"
        },
        "id": "qpWKbhLAH_5-",
        "outputId": "9f219c6b-729e-480e-c334-d78e8520a118"
      },
      "execution_count": 27,
      "outputs": [
        {
          "output_type": "stream",
          "name": "stdout",
          "text": [
            "[0]\n",
            "[0, 2]\n",
            "[0, 2, 4]\n",
            "[0, 2, 4, 6]\n",
            "[0, 2, 4, 6, 8]\n",
            "[0, 2, 4, 6, 8, 10]\n",
            "[0, 2, 4, 6, 8, 10, 12]\n",
            "[0, 2, 4, 6, 8, 10, 12, 14]\n",
            "[0, 2, 4, 6, 8, 10, 12, 14, 16]\n",
            "[0, 2, 4, 6, 8, 10, 12, 14, 16, 18]\n",
            "[0, 2, 4, 6, 8, 10, 12, 14, 16, 18, 0]\n",
            "[0, 2, 4, 6, 8, 10, 12, 14, 16, 18, 0, 2]\n",
            "[0, 2, 4, 6, 8, 10, 12, 14, 16, 18, 0, 2, 4]\n",
            "[0, 2, 4, 6, 8, 10, 12, 14, 16, 18, 0, 2, 4, 6]\n",
            "[0, 2, 4, 6, 8, 10, 12, 14, 16, 18, 0, 2, 4, 6, 8]\n",
            "[0, 2, 4, 6, 8, 10, 12, 14, 16, 18, 0, 2, 4, 6, 8, 10]\n",
            "[0, 2, 4, 6, 8, 10, 12, 14, 16, 18, 0, 2, 4, 6, 8, 10, 12]\n",
            "[0, 2, 4, 6, 8, 10, 12, 14, 16, 18, 0, 2, 4, 6, 8, 10, 12, 14]\n",
            "[0, 2, 4, 6, 8, 10, 12, 14, 16, 18, 0, 2, 4, 6, 8, 10, 12, 14, 16]\n",
            "[0, 2, 4, 6, 8, 10, 12, 14, 16, 18, 0, 2, 4, 6, 8, 10, 12, 14, 16, 18]\n"
          ]
        }
      ]
    },
    {
      "cell_type": "code",
      "source": [
        "b=[] #create empty list\n",
        "print(b)\n",
        "for num in range(10):\n",
        "  b.append(num)\n",
        "  print(b)\n",
        "n=[]\n",
        "n=[x*2 for x in b]\n",
        "print(n)"
      ],
      "metadata": {
        "colab": {
          "base_uri": "https://localhost:8080/"
        },
        "id": "QLQtQgcgJnXT",
        "outputId": "925e5e0d-c225-458a-b957-ca5a0b1ec121"
      },
      "execution_count": 31,
      "outputs": [
        {
          "output_type": "stream",
          "name": "stdout",
          "text": [
            "[]\n",
            "[0]\n",
            "[0, 1]\n",
            "[0, 1, 2]\n",
            "[0, 1, 2, 3]\n",
            "[0, 1, 2, 3, 4]\n",
            "[0, 1, 2, 3, 4, 5]\n",
            "[0, 1, 2, 3, 4, 5, 6]\n",
            "[0, 1, 2, 3, 4, 5, 6, 7]\n",
            "[0, 1, 2, 3, 4, 5, 6, 7, 8]\n",
            "[0, 1, 2, 3, 4, 5, 6, 7, 8, 9]\n",
            "[0, 2, 4, 6, 8, 10, 12, 14, 16, 18]\n"
          ]
        }
      ]
    },
    {
      "cell_type": "code",
      "source": [
        "k=[x+2 for x in b]\n",
        "print(k)"
      ],
      "metadata": {
        "colab": {
          "base_uri": "https://localhost:8080/"
        },
        "id": "QMg8-nI0KDUE",
        "outputId": "65459dad-33f9-4278-dbd2-de1b3f7d75db"
      },
      "execution_count": 32,
      "outputs": [
        {
          "output_type": "stream",
          "name": "stdout",
          "text": [
            "[2, 3, 4, 5, 6, 7, 8, 9, 10, 11]\n"
          ]
        }
      ]
    },
    {
      "cell_type": "code",
      "source": [
        "z=[]\n",
        "z=[x for x in b if x>6]\n"
      ],
      "metadata": {
        "id": "x9keBc5tKPwl"
      },
      "execution_count": 33,
      "outputs": []
    },
    {
      "cell_type": "code",
      "source": [
        "print(z)\n"
      ],
      "metadata": {
        "colab": {
          "base_uri": "https://localhost:8080/"
        },
        "id": "gX3mqrWUKs0X",
        "outputId": "b2a71201-1ac8-4e6d-df33-d60818280d09"
      },
      "execution_count": 34,
      "outputs": [
        {
          "output_type": "stream",
          "name": "stdout",
          "text": [
            "[7, 8, 9]\n"
          ]
        }
      ]
    },
    {
      "cell_type": "code",
      "source": [
        "b.remove(1)\n",
        "print(b)"
      ],
      "metadata": {
        "colab": {
          "base_uri": "https://localhost:8080/"
        },
        "id": "J3jrcZBEKwoG",
        "outputId": "45cc3912-e1be-4a1c-825e-96a577d984e1"
      },
      "execution_count": 39,
      "outputs": [
        {
          "output_type": "stream",
          "name": "stdout",
          "text": [
            "[0, 2, 3, 4, 5, 6, 7, 8, 9]\n"
          ]
        }
      ]
    },
    {
      "cell_type": "code",
      "source": [
        "no=[1,2,3,4,5,6,7,8,9,12]\n",
        "div=[\"div by 6\" if num%2 == 0 and num%3 == 0 else \"not div by 6\" for num in no]\n",
        "print(div)"
      ],
      "metadata": {
        "colab": {
          "base_uri": "https://localhost:8080/"
        },
        "id": "h7SWHFgfK4kR",
        "outputId": "51d66eae-aef9-4a6d-cff7-e3eb09407ab4"
      },
      "execution_count": 44,
      "outputs": [
        {
          "output_type": "stream",
          "name": "stdout",
          "text": [
            "['not div by 6', 'not div by 6', 'not div by 6', 'not div by 6', 'not div by 6', 'div by 6', 'not div by 6', 'not div by 6', 'not div by 6', 'div by 6']\n"
          ]
        }
      ]
    },
    {
      "cell_type": "code",
      "source": [
        "#tuples\n",
        "tup_a=(1,2,3,4,5,6)\n",
        "print(tup_a)"
      ],
      "metadata": {
        "colab": {
          "base_uri": "https://localhost:8080/"
        },
        "id": "as2moUueLsiJ",
        "outputId": "045e6902-77a3-4569-f895-0d93abee4220"
      },
      "execution_count": 45,
      "outputs": [
        {
          "output_type": "stream",
          "name": "stdout",
          "text": [
            "(1, 2, 3, 4, 5, 6)\n"
          ]
        }
      ]
    },
    {
      "cell_type": "code",
      "source": [
        "#cant change tuple value, but can change list value\n",
        "tup_a[2]=42"
      ],
      "metadata": {
        "colab": {
          "base_uri": "https://localhost:8080/",
          "height": 183
        },
        "id": "eCiZQs8FMOC9",
        "outputId": "b4948101-75fd-481a-cb3a-ddaadf9e5579"
      },
      "execution_count": 46,
      "outputs": [
        {
          "output_type": "error",
          "ename": "TypeError",
          "evalue": "ignored",
          "traceback": [
            "\u001b[0;31m---------------------------------------------------------------------------\u001b[0m",
            "\u001b[0;31mTypeError\u001b[0m                                 Traceback (most recent call last)",
            "\u001b[0;32m<ipython-input-46-cd9f4d089bac>\u001b[0m in \u001b[0;36m<cell line: 2>\u001b[0;34m()\u001b[0m\n\u001b[1;32m      1\u001b[0m \u001b[0;31m#cant change tuple value, but can change list value\u001b[0m\u001b[0;34m\u001b[0m\u001b[0;34m\u001b[0m\u001b[0m\n\u001b[0;32m----> 2\u001b[0;31m \u001b[0mtup_a\u001b[0m\u001b[0;34m[\u001b[0m\u001b[0;36m2\u001b[0m\u001b[0;34m]\u001b[0m\u001b[0;34m=\u001b[0m\u001b[0;36m42\u001b[0m\u001b[0;34m\u001b[0m\u001b[0;34m\u001b[0m\u001b[0m\n\u001b[0m",
            "\u001b[0;31mTypeError\u001b[0m: 'tuple' object does not support item assignment"
          ]
        }
      ]
    },
    {
      "cell_type": "code",
      "source": [
        "#make new tuple\n",
        "e=[2*x for x in tup_a]"
      ],
      "metadata": {
        "id": "W9qNCnGcMZCi"
      },
      "execution_count": 47,
      "outputs": []
    },
    {
      "cell_type": "code",
      "source": [
        "print(e)"
      ],
      "metadata": {
        "colab": {
          "base_uri": "https://localhost:8080/"
        },
        "id": "IcZcLAOnMjot",
        "outputId": "16b3132d-e6fc-4bee-cafa-e71963eb116c"
      },
      "execution_count": 48,
      "outputs": [
        {
          "output_type": "stream",
          "name": "stdout",
          "text": [
            "[2, 4, 6, 8, 10, 12]\n"
          ]
        }
      ]
    },
    {
      "cell_type": "code",
      "source": [
        "tup1=(5)\n",
        "tup2=(5,)\n",
        "tup3=(5,2,3)\n",
        "print(type(tup1))\n",
        "print(type(tup2))\n",
        "print(type(tup3))\n"
      ],
      "metadata": {
        "colab": {
          "base_uri": "https://localhost:8080/"
        },
        "id": "fEKGECVjMlVP",
        "outputId": "e94305c2-2d97-411a-a37e-fa8f8f87523a"
      },
      "execution_count": 49,
      "outputs": [
        {
          "output_type": "stream",
          "name": "stdout",
          "text": [
            "<class 'int'>\n",
            "<class 'tuple'>\n",
            "<class 'tuple'>\n"
          ]
        }
      ]
    },
    {
      "cell_type": "code",
      "source": [
        "# A collection of items that is both unordered and unindexed and does not allow duplicate valuesis called set.\n",
        "thisset={\"apple\",\"banana\",\"cherry\"}\n",
        "print(thisset)"
      ],
      "metadata": {
        "colab": {
          "base_uri": "https://localhost:8080/"
        },
        "id": "gVR3NGVBM_t8",
        "outputId": "3d60578f-7c7d-4715-8f12-bb7a62f674c9"
      },
      "execution_count": 50,
      "outputs": [
        {
          "output_type": "stream",
          "name": "stdout",
          "text": [
            "{'banana', 'apple', 'cherry'}\n"
          ]
        }
      ]
    },
    {
      "cell_type": "code",
      "source": [
        "#Set operations\n",
        "one=set([4,5,6,7,1,2,3])\n",
        "two=set([4,5,3,2,1,2])\n",
        "print(\"The sets:\", one,two)\n",
        "print(\"intersection:\", one & two)\n",
        "print(\"union:\", one | two)\n",
        "print(\"Difference:\", one - two)"
      ],
      "metadata": {
        "colab": {
          "base_uri": "https://localhost:8080/"
        },
        "id": "Pgdw6SKINnLp",
        "outputId": "7b39f993-aa50-4f07-e10c-0024769dc339"
      },
      "execution_count": 51,
      "outputs": [
        {
          "output_type": "stream",
          "name": "stdout",
          "text": [
            "The sets: {1, 2, 3, 4, 5, 6, 7} {1, 2, 3, 4, 5}\n",
            "intersection: {1, 2, 3, 4, 5}\n",
            "union: {1, 2, 3, 4, 5, 6, 7}\n",
            "Difference: {6, 7}\n"
          ]
        }
      ]
    },
    {
      "cell_type": "code",
      "source": [
        "phone_num={\"MAnish\": 663636363}\n",
        "print(phone_num)"
      ],
      "metadata": {
        "colab": {
          "base_uri": "https://localhost:8080/"
        },
        "id": "OaOJ-O5jOPIv",
        "outputId": "d144b2c1-7e44-4ee1-97bf-fb56d2d0049b"
      },
      "execution_count": 52,
      "outputs": [
        {
          "output_type": "stream",
          "name": "stdout",
          "text": [
            "{'MAnish': 663636363}\n"
          ]
        }
      ]
    },
    {
      "cell_type": "code",
      "source": [
        "#can change value but noe key\n",
        "phone_num={\"MAnish\": 9092190921}\n",
        "print(phone_num)"
      ],
      "metadata": {
        "colab": {
          "base_uri": "https://localhost:8080/"
        },
        "id": "JI59G4_WO-Yh",
        "outputId": "e7c91990-e7ed-45c1-9c8b-93cb75ee8325"
      },
      "execution_count": 53,
      "outputs": [
        {
          "output_type": "stream",
          "name": "stdout",
          "text": [
            "{'MAnish': 9092190921}\n"
          ]
        }
      ]
    },
    {
      "cell_type": "code",
      "source": [
        "print(phone_num['MAnish'])"
      ],
      "metadata": {
        "colab": {
          "base_uri": "https://localhost:8080/"
        },
        "id": "ISyPLsN9PNiQ",
        "outputId": "62542ff1-a385-4a76-f0de-2f9b210acc55"
      },
      "execution_count": 55,
      "outputs": [
        {
          "output_type": "stream",
          "name": "stdout",
          "text": [
            "9092190921\n"
          ]
        }
      ]
    },
    {
      "cell_type": "code",
      "source": [
        "#file handling\n",
        "f = open(\"demo.txt\",\"w\")\n",
        "f.write(\"Hello, I am Sudha\")\n",
        "f = open(\"demo.txt\",\"r\")\n",
        "print(f.read())\n",
        "print(f.readline())\n"
      ],
      "metadata": {
        "colab": {
          "base_uri": "https://localhost:8080/"
        },
        "id": "M4h9fGNJPUz-",
        "outputId": "47c12e41-5806-44ee-c067-6cff13a71759"
      },
      "execution_count": 61,
      "outputs": [
        {
          "output_type": "stream",
          "name": "stdout",
          "text": [
            "Hello, I am Sudha\n",
            "\n"
          ]
        }
      ]
    },
    {
      "cell_type": "code",
      "source": [
        "#appending to the file\n",
        "f = open(\"demo.txt\",\"a\")\n",
        "f.write(\"I am a Professor\")\n",
        "f = open(\"demo.txt\",\"r\")\n",
        "print(f.read())\n",
        "#print(f.readline())\n"
      ],
      "metadata": {
        "colab": {
          "base_uri": "https://localhost:8080/"
        },
        "id": "KryBUBNsPu7k",
        "outputId": "50ec83e6-75ff-4b75-afcc-f9b2d17d7fd1"
      },
      "execution_count": 63,
      "outputs": [
        {
          "output_type": "stream",
          "name": "stdout",
          "text": [
            "Hello, I am SudhaI am a ProfessorI am a Professor\n"
          ]
        }
      ]
    },
    {
      "cell_type": "code",
      "source": [],
      "metadata": {
        "id": "wVHEmqLvQlkn"
      },
      "execution_count": null,
      "outputs": []
    }
  ]
}